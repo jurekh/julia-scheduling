{
 "cells": [
  {
   "cell_type": "markdown",
   "metadata": {},
   "source": [
    "## Employee Scheduling Solver"
   ]
  },
  {
   "cell_type": "markdown",
   "metadata": {},
   "source": [
    "This notebook was created to help solve employee scheduling problem during post-peak Coronavirus period.\n",
    "\n",
    "In my company, during Coronavirus lockdown, most people in my part of the organization worked from home. When the virus spread subsided, we started preparing for a controlled return to the office. One of many safety measures we implemented was limiting the number of workspots per floor to maintain 1.5 meter distance.\n",
    "\n",
    "With the number of workspots reduced, not everyone can come to the office at the same time. Everyone has a preference on which days to come in. Teams that work together should come together. Figuring out a schedule manually, even for a small group of people, is a tedious and error-prone task. There must be a better way...\n",
    "\n",
    "One way of looking at schedule construction is treating it like a mathematical optimization problem:\n",
    "* Define \"utility\" value of a schedule as a sum of happiness of employees. Coming in on a preferred day makes an employee happy. Coming in on a non-preferred day makes an employee very unhappy. Coming in together with teammates makes employees happier. \n",
    "* Maximize the \"utility\" of a schedule, given constraints:\n",
    " - Number of employees who come in on any given day should not exceed the number of available workspots.\n",
    " - Optional: number of times an employee comes in each week should not exceed an arbitrary number, to give everyone a chance to come to the office.\n",
    " \n",
    "This type of optimization problem can be solved by a Mixed Integer Linear Program (MILP) solver. The code below shows how to construct such a problem, feed it to the solver, and show the solution."
   ]
  },
  {
   "cell_type": "markdown",
   "metadata": {},
   "source": [
    "_Note: this is my first program in Julia, feedback on making it better is welcome!_"
   ]
  },
  {
   "cell_type": "code",
   "execution_count": 7,
   "metadata": {},
   "outputs": [],
   "source": [
    "using JuMP\n",
    "using Cbc\n",
    "using Combinatorics\n",
    "using Base.Iterators\n",
    "using XLSX"
   ]
  },
  {
   "cell_type": "markdown",
   "metadata": {},
   "source": [
    "### Utility function - toy data problem"
   ]
  },
  {
   "cell_type": "code",
   "execution_count": 8,
   "metadata": {},
   "outputs": [
    {
     "data": {
      "text/plain": [
       "load_toy_data (generic function with 1 method)"
      ]
     },
     "execution_count": 8,
     "metadata": {},
     "output_type": "execute_result"
    }
   ],
   "source": [
    "function load_toy_data()\n",
    "    employee_names = [\"Tony\", \"Bruce\", \"Steve\", \"Natasha\", \"Wanda\", \"Susan\"]\n",
    "    day_names = [\"1.1\", \"1.2\", \"1.3\", \"1.4\", \"1.5\", \"2.1\", \"2.2\", \"2.3\", \"2.4\", \"2.5\",]\n",
    "\n",
    "    # Rows: employees, columns: days\n",
    "    # 5: Strong preference to come in (happy)\n",
    "    # 1: Weak preference to come in (happy-ish)\n",
    "    # -99: Unavailable to come in (very unhappy)\n",
    "\n",
    "    preferences = [\n",
    "          5   1   5   5   5   5   1   5   5   5\n",
    "          1   5   1   1 -99   1   5   1   1 -99\n",
    "          1   5   1   5   1   1 -99   1   5   5\n",
    "          1   1 -99   1   1   1   1 -99   1   1\n",
    "          5   5   5 -99   1   1   5   5   5   1\n",
    "          1 -99   1   5   5   5   1   1   1   1\n",
    "    ]\n",
    "\n",
    "    # Connection matrix - upper triangular matrix\n",
    "    # Item at row i column j shows strength of connection between employees i and j.\n",
    "    # #he higher the number, the closer the collaboration.\n",
    "    # \n",
    "    # Only the upper right triangle is useful. The diagnoal represents self-connection (which is useless for our purpose)\n",
    "    # and the bottom left is a mirror of upper right (but we don't have to fill it in).\n",
    "    # The algorithm only uses the upper right triangle and ignores the rest.\n",
    "\n",
    "    connections = [\n",
    "        0 8 8 1 1 1\n",
    "        0 0 8 1 1 1\n",
    "        0 0 0 1 1 1\n",
    "        0 0 0 0 1 1\n",
    "        0 0 0 0 0 1\n",
    "        0 0 0 0 0 0\n",
    "    ];\n",
    "    return (employee_names, day_names, preferences, connections)\n",
    "end"
   ]
  },
  {
   "cell_type": "markdown",
   "metadata": {},
   "source": [
    "### Utility function - load data from Excel sheet"
   ]
  },
  {
   "cell_type": "code",
   "execution_count": 9,
   "metadata": {},
   "outputs": [
    {
     "data": {
      "text/plain": [
       "load_data (generic function with 1 method)"
      ]
     },
     "execution_count": 9,
     "metadata": {},
     "output_type": "execute_result"
    }
   ],
   "source": [
    "# The data is loaded from named ranges. See example sheet for reference.\n",
    "# \n",
    "# Preferences of employees to attend each day are indicated with\n",
    "#   Y (yes, strength 5), M (maybe, strength 1) and N (no, strength -99).\n",
    "# Empty cells are treated as \"N\"\n",
    "#\n",
    "# Connections between employees are indicated by integers. Positive values will steer the scheduler\n",
    "# to schedule those people together. Negative values can be used to ensure that some people are never scheduled together.\n",
    "# Empty cells are treated as 0.\n",
    "\n",
    "function load_data(input_file_name)\n",
    "    xf = XLSX.openxlsx(input_file_name)\n",
    "    sheet = xf[1]\n",
    "    my_employee_names = sheet[\"EmployeeNames\"]\n",
    "    my_day_names = sheet[\"DayNames\"]\n",
    "    my_preferences = sheet[\"Preferences\"]\n",
    "    my_connections = sheet[\"Connections\"]\n",
    "    close(xf)\n",
    "\n",
    "    day_names = string.(reshape(my_day_names, size(my_day_names)[2]) )\n",
    "    employee_names = string.(reshape(my_employee_names, size(my_employee_names)[1]))\n",
    "    connections = Int64.(replace(my_connections, missing => 0))\n",
    "    preferences = Int64.(replace(lowercase.(replace(my_preferences, missing => \"N\")), \"y\" => 5, \"m\" => 1, \"n\" => -99))\n",
    "\n",
    "    n_days = size(day_names)[1]\n",
    "    n_employees = size(employee_names)[1]\n",
    "    @assert (n_employees, n_employees) == size(connections)\n",
    "    @assert (n_employees, n_days) == size(preferences)\n",
    "    return (employee_names, day_names, preferences, connections)\n",
    "end"
   ]
  },
  {
   "cell_type": "markdown",
   "metadata": {},
   "source": [
    "#### Build a toy problem, or load real data from Excel"
   ]
  },
  {
   "cell_type": "code",
   "execution_count": 19,
   "metadata": {},
   "outputs": [
    {
     "data": {
      "text/plain": [
       "([\"Tony\", \"Bruce\", \"Steve\", \"Natasha\", \"Wanda\", \"Susan\"], [\"1.1\", \"1.2\", \"1.3\", \"1.4\", \"1.5\", \"2.1\", \"2.2\", \"2.3\", \"2.4\", \"2.5\"], [5 1 … 5 5; 1 5 … 1 -99; … ; 5 5 … 5 1; 1 -99 … 1 1], [0 8 … 1 1; 0 0 … 1 1; … ; 0 0 … 0 1; 0 0 … 0 0])"
      ]
     },
     "execution_count": 19,
     "metadata": {},
     "output_type": "execute_result"
    }
   ],
   "source": [
    "NUM_SPOTS = 2\n",
    "MAX_VISITS_PER_WEEK = 2\n",
    "employee_names, day_names, preferences, connections = load_toy_data()\n",
    "\n",
    "# input_file_name = \"input.xlsx\"\n",
    "# NUM_SPOTS = 72 # Change this to the number of workspots available\n",
    "# MAX_VISITS_PER_WEEK = 5\n",
    "# employee_names, day_names, preferences, connections = load_data(input_file_name)"
   ]
  },
  {
   "cell_type": "markdown",
   "metadata": {},
   "source": [
    "### Compute utility variables"
   ]
  },
  {
   "cell_type": "code",
   "execution_count": 11,
   "metadata": {},
   "outputs": [],
   "source": [
    "function get_optimization_ranges(employee_names, day_names)\n",
    "    employees = 1:length(employee_names)\n",
    "    days = 1:length(day_names)\n",
    "    return (employees, days)\n",
    "end\n",
    "\n",
    "employees, days = get_optimization_ranges(employee_names, day_names)\n",
    "employee_pairs = collect(combinations(employees, 2));"
   ]
  },
  {
   "cell_type": "markdown",
   "metadata": {},
   "source": [
    "### Construct a linear model"
   ]
  },
  {
   "cell_type": "code",
   "execution_count": 12,
   "metadata": {},
   "outputs": [
    {
     "data": {
      "text/plain": [
       "(A JuMP Model\n",
       "Maximization problem with:\n",
       "Variables: 210\n",
       "Objective function type: GenericAffExpr{Float64,VariableRef}\n",
       "`GenericAffExpr{Float64,VariableRef}`-in-`MathOptInterface.GreaterThan{Float64}`: 150 constraints\n",
       "`GenericAffExpr{Float64,VariableRef}`-in-`MathOptInterface.LessThan{Float64}`: 322 constraints\n",
       "`VariableRef`-in-`MathOptInterface.ZeroOne`: 210 constraints\n",
       "Model mode: AUTOMATIC\n",
       "CachingOptimizer state: EMPTY_OPTIMIZER\n",
       "Solver name: COIN Branch-and-Cut (Cbc), Dict{Tuple{Int64,Int64},VariableRef}((3, 6) => atnde_3d_6,(6, 9) => atnde_6d_9,(4, 4) => atnde_4d_4,(3, 1) => atnde_3d_1,(1, 10) => atnde_1d_10,(4, 5) => atnde_4d_5,(2, 4) => atnde_2d_4,(6, 5) => atnde_6d_5,(4, 9) => atnde_4d_9,(1, 2) => atnde_1d_2…))"
      ]
     },
     "execution_count": 12,
     "metadata": {},
     "output_type": "execute_result"
    }
   ],
   "source": [
    "function build_model(employee_names::Array{String,1}, day_names::Array{String,1},\n",
    "        preferences::Array{Int64,2}, connections::Array{Int64,2}, \n",
    "        num_spots::Int64, max_visits_per_week::Int64)\n",
    "\n",
    "    roster_model = Model(Cbc.Optimizer)\n",
    "\n",
    "    employees, days = get_optimization_ranges(employee_names, day_names)\n",
    "    employee_pairs = collect(combinations(employees, 2));\n",
    "\n",
    "    # Attendance variables - employee per day\n",
    "    attendance_vars = Dict((e, d) => @variable(roster_model, base_name=\"atnde_$(e)d_$(d)\", binary=true) \n",
    "        for e in employees for d in days)\n",
    "\n",
    "    # Linearization variables\n",
    "    z_vars = Dict((e1, e2, d) => @variable(roster_model, base_name=\"ze_$(e1)e_$(e2)d_$(d)\", binary=true)\n",
    "        for (e1, e2) in employee_pairs for d in days)\n",
    "\n",
    "    # Maximize the sum of preferences of all attending employees and the sum of connections between present employees\n",
    "    @objective(roster_model, Max, \n",
    "        sum(preferences[e, d] * attendance_vars[(e, d)] for e in employees for d in days) + \n",
    "        sum(z_vars[(e1, e2, d)] * connections[e1, e2] for (e1, e2) in employee_pairs for d in days))\n",
    "\n",
    "    # Limit the number of employees attending each day to NUM_SPOTS\n",
    "    for d in days\n",
    "        @constraint(roster_model, sum(attendance_vars[(e, d)] for e in employees) <= num_spots)\n",
    "    end\n",
    "\n",
    "    # Limit max number of visits per employee per week to MAX_VISITS_PER_WEEK\n",
    "    for week in partition(days, 5)\n",
    "        for e in employees\n",
    "            @constraint(roster_model, sum(attendance_vars[(e, d)] for d in week) <= max_visits_per_week)\n",
    "        end\n",
    "    end\n",
    "\n",
    "    # Linearization constraints\n",
    "    for d in days\n",
    "        for (e1, e2) in employee_pairs\n",
    "            @constraint(roster_model, z_vars[(e1, e2, d)] <= attendance_vars[(e1, d)])\n",
    "            @constraint(roster_model, z_vars[(e1, e2, d)] <= attendance_vars[(e2, d)])\n",
    "            @constraint(roster_model, z_vars[(e1, e2, d)] >= attendance_vars[(e1, d)] + attendance_vars[(e2, d)] - 1)\n",
    "        end\n",
    "    end\n",
    "    return roster_model, attendance_vars\n",
    "end\n",
    "\n",
    "model, attendance_vars = build_model(employee_names, day_names, preferences, connections, NUM_SPOTS, MAX_VISITS_PER_WEEK)"
   ]
  },
  {
   "cell_type": "markdown",
   "metadata": {},
   "source": [
    "### Run optimization"
   ]
  },
  {
   "cell_type": "code",
   "execution_count": 13,
   "metadata": {},
   "outputs": [
    {
     "name": "stdout",
     "output_type": "stream",
     "text": [
      "Welcome to the CBC MILP Solver \n",
      "Version: 2.10.3 \n",
      "Build Date: Jan  1 1970 \n",
      "\n",
      "command line - Cbc_C_Interface -solve -quit (default strategy 1)\n",
      "Continuous objective value is 172.45 - 0.01 seconds\n",
      "Cgl0003I 0 fixed, 0 tightened bounds, 415 strengthened rows, 0 substitutions\n",
      "Cgl0003I 0 fixed, 0 tightened bounds, 436 strengthened rows, 0 substitutions\n",
      "Cgl0003I 0 fixed, 0 tightened bounds, 397 strengthened rows, 0 substitutions\n",
      "Cgl0003I 0 fixed, 0 tightened bounds, 298 strengthened rows, 0 substitutions\n",
      "Cgl0003I 0 fixed, 0 tightened bounds, 220 strengthened rows, 0 substitutions\n",
      "Cgl0003I 0 fixed, 0 tightened bounds, 207 strengthened rows, 0 substitutions\n",
      "Cgl0003I 0 fixed, 0 tightened bounds, 44 strengthened rows, 0 substitutions\n",
      "Cgl0003I 0 fixed, 0 tightened bounds, 18 strengthened rows, 0 substitutions\n",
      "Cgl0004I processed model has 232 rows, 210 columns (210 integer (210 of which binary)) and 1830 elements\n",
      "Cbc0012I Integer solution of -125 found by DiveCoefficient after 0 iterations and 0 nodes (0.12 seconds)\n",
      "Cbc0038I Full problem 232 rows 210 columns, reduced to 20 rows 8 columns\n",
      "Cbc0031I 1 added rows had average density of 10\n",
      "Cbc0013I At root node, 1 cuts changed objective from -126.5 to -125 in 1 passes\n",
      "Cbc0014I Cut generator 0 (Probing) - 0 row cuts average 0.0 elements, 0 column cuts (0 active)  in 0.000 seconds - new frequency is -100\n",
      "Cbc0014I Cut generator 1 (Gomory) - 0 row cuts average 0.0 elements, 0 column cuts (0 active)  in 0.000 seconds - new frequency is -100\n",
      "Cbc0014I Cut generator 2 (Knapsack) - 0 row cuts average 0.0 elements, 0 column cuts (0 active)  in 0.001 seconds - new frequency is -100\n",
      "Cbc0014I Cut generator 3 (Clique) - 0 row cuts average 0.0 elements, 0 column cuts (0 active)  in 0.000 seconds - new frequency is -100\n",
      "Cbc0014I Cut generator 4 (MixedIntegerRounding2) - 0 row cuts average 0.0 elements, 0 column cuts (0 active)  in 0.000 seconds - new frequency is -100\n",
      "Cbc0014I Cut generator 5 (FlowCover) - 0 row cuts average 0.0 elements, 0 column cuts (0 active)  in 0.000 seconds - new frequency is -100\n",
      "Cbc0014I Cut generator 6 (TwoMirCuts) - 1 row cuts average 10.0 elements, 0 column cuts (0 active)  in 0.001 seconds - new frequency is -100\n",
      "Cbc0001I Search completed - best objective -125, took 0 iterations and 0 nodes (0.15 seconds)\n",
      "Cbc0035I Maximum depth 0, 120 variables fixed on reduced cost\n",
      "Cuts at root node changed objective from -126.5 to -125\n",
      "Probing was tried 1 times and created 0 cuts of which 0 were active after adding rounds of cuts (0.000 seconds)\n",
      "Gomory was tried 1 times and created 0 cuts of which 0 were active after adding rounds of cuts (0.000 seconds)\n",
      "Knapsack was tried 1 times and created 0 cuts of which 0 were active after adding rounds of cuts (0.001 seconds)\n",
      "Clique was tried 1 times and created 0 cuts of which 0 were active after adding rounds of cuts (0.000 seconds)\n",
      "MixedIntegerRounding2 was tried 1 times and created 0 cuts of which 0 were active after adding rounds of cuts (0.000 seconds)\n",
      "FlowCover was tried 1 times and created 0 cuts of which 0 were active after adding rounds of cuts (0.000 seconds)\n",
      "TwoMirCuts was tried 1 times and created 1 cuts of which 0 were active after adding rounds of cuts (0.001 seconds)\n",
      "ZeroHalf was tried 1 times and created 0 cuts of which 0 were active after adding rounds of cuts (0.002 seconds)\n",
      "\n",
      "Result - Optimal solution found\n",
      "\n",
      "Objective value:                125.00000000\n",
      "Enumerated nodes:               0\n",
      "Total iterations:               0\n",
      "Time (CPU seconds):             0.16\n",
      "Time (Wallclock seconds):       0.16\n",
      "\n",
      "Total time (CPU seconds):       0.16   (Wallclock seconds):       0.17\n",
      "\n"
     ]
    }
   ],
   "source": [
    "optimize!(model)"
   ]
  },
  {
   "cell_type": "markdown",
   "metadata": {},
   "source": [
    "#### Print results - watch out, can be large, depending on the size of your problem."
   ]
  },
  {
   "cell_type": "code",
   "execution_count": 15,
   "metadata": {},
   "outputs": [
    {
     "name": "stdout",
     "output_type": "stream",
     "text": [
      "Status = OPTIMAL\n",
      "Solution = 125.0\n",
      "\n",
      "Employee 1: 0, 0, 1, 1, 0, 0, 0, 0, 1, 1, \n",
      "Employee 2: 0, 1, 1, 0, 0, 0, 1, 0, 0, 0, \n",
      "Employee 3: 0, 1, 0, 1, 0, 0, 0, 0, 1, 1, \n",
      "Employee 4: 1, 0, 0, 0, 1, 1, 0, 0, 0, 0, \n",
      "Employee 5: 1, 0, 0, 0, 0, 0, 1, 1, 0, 0, \n",
      "Employee 6: 0, 0, 0, 0, 1, 1, 0, 1, 0, 0, \n"
     ]
    }
   ],
   "source": [
    "println(\"Status = \", termination_status(model))\n",
    "println(\"Solution = \", objective_value(model))\n",
    "println()\n",
    "\n",
    "for e in employees\n",
    "    print(\"Employee $(e): \")\n",
    "    for d in days\n",
    "        print(convert(Int8, value(attendance_vars[(e, d)])), \", \")\n",
    "    end\n",
    "    println()\n",
    "end"
   ]
  },
  {
   "cell_type": "markdown",
   "metadata": {},
   "source": [
    "### Utility funciton - save solution to an Excel file"
   ]
  },
  {
   "cell_type": "code",
   "execution_count": 16,
   "metadata": {},
   "outputs": [
    {
     "data": {
      "text/plain": [
       "save_solution (generic function with 1 method)"
      ]
     },
     "execution_count": 16,
     "metadata": {},
     "output_type": "execute_result"
    }
   ],
   "source": [
    "function save_solution(output_file_name::String, \n",
    "        employee_names::Array{String,1}, \n",
    "        day_names::Array{String,1}, attendance_vars)\n",
    "\n",
    "    employees, days = get_optimization_ranges(employee_names, day_names)\n",
    "    allocations = [[convert(Int64, value(attendance_vars[(e, d)])) for d in days] for e in employees]\n",
    "\n",
    "    XLSX.openxlsx(output_file_name, mode=\"w\") do xf\n",
    "        sheet = xf[1]\n",
    "        XLSX.rename!(sheet, \"schedule\")\n",
    "        sheet[2, 1, dim=1] = employee_names # dim=1 means column\n",
    "        sheet[1, 2, dim=2] = day_names # dim=2 means row\n",
    "        for e in employees\n",
    "            for d in days\n",
    "                sheet[1 + e, 1 + d] = allocations[e][d]\n",
    "            end\n",
    "        end\n",
    "    end\n",
    "end"
   ]
  },
  {
   "cell_type": "code",
   "execution_count": 18,
   "metadata": {},
   "outputs": [],
   "source": [
    "output_file_name = \"schedule.xlsx\"\n",
    "save_solution(output_file_name, employee_names, day_names, attendance_vars)"
   ]
  },
  {
   "cell_type": "code",
   "execution_count": null,
   "metadata": {},
   "outputs": [],
   "source": []
  }
 ],
 "metadata": {
  "kernelspec": {
   "display_name": "Julia 1.4.2",
   "language": "julia",
   "name": "julia-1.4"
  },
  "language_info": {
   "file_extension": ".jl",
   "mimetype": "application/julia",
   "name": "julia",
   "version": "1.4.2"
  }
 },
 "nbformat": 4,
 "nbformat_minor": 4
}
