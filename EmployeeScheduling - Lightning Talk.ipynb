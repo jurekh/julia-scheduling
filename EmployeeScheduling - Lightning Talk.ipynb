{
 "cells": [
  {
   "cell_type": "markdown",
   "metadata": {},
   "source": [
    "## Employee Scheduling Solver"
   ]
  },
  {
   "cell_type": "markdown",
   "metadata": {},
   "source": [
    "## Introduction\n",
    "This notebook was created to help solve employee scheduling problem during post-peak Coronavirus period.\n",
    "\n",
    "In my company, during Coronavirus lockdown, most people in my part of the organization worked from home. When the virus spread subsided, we started preparing for a controlled return to the office. One of many safety measures we implemented was limiting the number of workspots per floor to maintain 1.5 meter distance.\n",
    "\n",
    "With the number of workspots reduced, not everyone can come to the office at the same time. Everyone has a preference on which days to come in. Teams that work together should come together. Figuring out a schedule manually, even for a small group of people, is a tedious and error-prone task. There must be a better way...\n",
    "\n",
    "One way of looking at schedule construction is treating it like a mathematical optimization problem:\n",
    "* Define \"utility\" value of a schedule as a sum of happiness of employees. Coming in on a preferred day makes an employee happy. Coming in on a non-preferred day makes an employee very unhappy. Coming in together with teammates makes employees happier. \n",
    "* Maximize the \"utility\" of a schedule, given constraints:\n",
    " - Number of employees who come in on any given day should not exceed the number of available workspots.\n",
    " - Optional: number of times an employee comes in each week should not exceed an arbitrary number, to give everyone a chance to come to the office.\n",
    " \n",
    "This type of optimization problem can be solved by a Mixed Integer Linear Program (MILP) solver. The code below shows how to construct such a problem, feed it to the solver, and show the solution."
   ]
  },
  {
   "cell_type": "markdown",
   "metadata": {},
   "source": [
    "## Alternative narrative\n",
    "This approach works equally well for the following problem:\n",
    "\n",
    "A small group of the Avengers are on a rotating patrol duty this week. Each day, two Avengers share a Quinjet and fight evil around the world.\n",
    "\n",
    "* A Quinjet fits only one or two Avengers.\n",
    "* Each Avenger should be on duty at least once a week, but not more than two days per week.\n",
    "* Each Avenger has personal preferences regarding which days they want to work.\n",
    "* Each Avenger has personal preferences regarding with whom they want to work.\n",
    "\n",
    "Your boss, Nick Fury, asked you to \"make a damn schedule, and make it damn work\".\n",
    "\n",
    "So you get to work. ¯\\\\\\_(ツ)_/¯\n"
   ]
  },
  {
   "cell_type": "markdown",
   "metadata": {},
   "source": [
    "### Quinjet\n",
    "![quinjet](quinjet.jpg)"
   ]
  },
  {
   "cell_type": "markdown",
   "metadata": {},
   "source": [
    "### Bad choice\n",
    "![Tony vs Steve](tony-vs-steve.jpeg)"
   ]
  },
  {
   "cell_type": "markdown",
   "metadata": {},
   "source": [
    "### Good choice\n",
    "![Tony and Bruce](tony-and-bruce.jpg)"
   ]
  },
  {
   "cell_type": "code",
   "execution_count": null,
   "metadata": {},
   "outputs": [],
   "source": [
    "using JuMP\n",
    "using Cbc\n",
    "using Combinatorics\n",
    "using Base.Iterators\n",
    "using XLSX"
   ]
  },
  {
   "cell_type": "markdown",
   "metadata": {},
   "source": [
    "### Utility function - load data from Excel sheet"
   ]
  },
  {
   "cell_type": "code",
   "execution_count": null,
   "metadata": {},
   "outputs": [],
   "source": [
    "# The data is loaded from named ranges. See example sheet for reference.\n",
    "# \n",
    "# Preferences of employees to attend each day are indicated with\n",
    "#   Y (yes, strength 5), M (maybe, strength 1) and N (no, strength -99).\n",
    "# Empty cells are treated as \"N\"\n",
    "#\n",
    "# Connections between employees are indicated by integers. Positive values will steer the scheduler\n",
    "# to schedule those people together. Negative values can be used to ensure that some people are never scheduled together.\n",
    "# Empty cells are treated as 0.\n",
    "\n",
    "function load_data(input_file_name)\n",
    "    xf = XLSX.openxlsx(input_file_name)\n",
    "    sheet = xf[1]\n",
    "    my_employee_names = sheet[\"EmployeeNames\"]\n",
    "    my_day_names = sheet[\"DayNames\"]\n",
    "    my_preferences = sheet[\"Preferences\"]\n",
    "    my_connections = sheet[\"Connections\"]\n",
    "    close(xf)\n",
    "\n",
    "    day_names = string.(reshape(my_day_names, size(my_day_names)[2]) )\n",
    "    employee_names = string.(reshape(my_employee_names, size(my_employee_names)[1]))\n",
    "    connections = Int64.(replace(my_connections, missing => 0))\n",
    "    preferences = Int64.(replace(lowercase.(replace(my_preferences, missing => \"N\")),\n",
    "                \"y\" => 5, \"m\" => 1, \"n\" => -99))\n",
    "\n",
    "    n_days = size(day_names)[1]\n",
    "    n_employees = size(employee_names)[1]\n",
    "    @assert (n_employees, n_employees) == size(connections)\n",
    "    @assert (n_employees, n_days) == size(preferences)\n",
    "    return (employee_names, day_names, preferences, connections)\n",
    "end"
   ]
  },
  {
   "cell_type": "markdown",
   "metadata": {},
   "source": [
    "#### Load real data from a sheet"
   ]
  },
  {
   "cell_type": "code",
   "execution_count": 156,
   "metadata": {},
   "outputs": [],
   "source": [
    "#input_file_name = \"input.xlsx\"\n",
    "input_file_name = \"input-small.xlsx\"\n",
    "NUM_SPOTS = 2 # Change this to the number of workspots available\n",
    "MAX_VISITS_PER_WEEK = 2\n",
    "MIN_VISITS_PER_WEEK = 1\n",
    "employee_names, day_names, preferences, connections = load_data(input_file_name);"
   ]
  },
  {
   "cell_type": "markdown",
   "metadata": {},
   "source": [
    "### Compute utility variables"
   ]
  },
  {
   "cell_type": "code",
   "execution_count": 157,
   "metadata": {},
   "outputs": [],
   "source": [
    "function get_optimization_ranges(employee_names, day_names)\n",
    "    employees = 1:length(employee_names)\n",
    "    days = 1:length(day_names)\n",
    "    return (employees, days)\n",
    "end\n",
    "\n",
    "employees, days = get_optimization_ranges(employee_names, day_names)\n",
    "employee_pairs = collect(combinations(employees, 2));"
   ]
  },
  {
   "cell_type": "code",
   "execution_count": 158,
   "metadata": {},
   "outputs": [],
   "source": [
    "#employees, days, employee_pairs"
   ]
  },
  {
   "cell_type": "markdown",
   "metadata": {},
   "source": [
    "### Construct a linear model"
   ]
  },
  {
   "cell_type": "code",
   "execution_count": 179,
   "metadata": {},
   "outputs": [],
   "source": [
    "function build_model(employee_names::Array{String,1}, day_names::Array{String,1},\n",
    "        preferences::Array{Int64,2}, connections::Array{Int64,2}, \n",
    "        num_spots::Int64, max_visits_per_week::Int64, min_visits_per_week::Int64)\n",
    "\n",
    "    roster_model = Model(Cbc.Optimizer)\n",
    "\n",
    "    employees, days = get_optimization_ranges(employee_names, day_names)\n",
    "    employee_pairs = collect(combinations(employees, 2));\n",
    "\n",
    "    # Attendance variables - employee per day\n",
    "    attendance_vars = Dict((e, d) => @variable(roster_model, \n",
    "            base_name=\"{$(employee_names[e])}_on_{$(day_names[d])}\", binary=true) \n",
    "        for e in employees for d in days)\n",
    "\n",
    "    # Linearization variables\n",
    "    z_vars = Dict((e1, e2, d) => @variable(roster_model, \n",
    "            base_name=\"$(employee_names[e1])_{$(employee_names[e2])}_on_$(day_names[d])\", binary=true)\n",
    "        for (e1, e2) in employee_pairs for d in days)\n",
    "\n",
    "    # Maximize the sum of preferences of all attending employees\n",
    "    # and the sum of connections between present employees\n",
    "    @objective(roster_model, Max, \n",
    "        sum(preferences[e, d] * attendance_vars[(e, d)] for e in employees for d in days) + \n",
    "        sum(z_vars[(e1, e2, d)] * connections[e1, e2] for (e1, e2) in employee_pairs for d in days))\n",
    "\n",
    "    # Limit the number of employees attending each day to NUM_SPOTS\n",
    "    for d in days\n",
    "        @constraint(roster_model, sum(attendance_vars[(e, d)] for e in employees) <= num_spots)\n",
    "    end\n",
    "\n",
    "    # Limit max number of visits per employee per week to MAX_VISITS_PER_WEEK\n",
    "    for week in partition(days, 5)\n",
    "        for e in employees\n",
    "            @constraint(roster_model, sum(attendance_vars[(e, d)] for d in week) <= max_visits_per_week)\n",
    "            @constraint(roster_model, sum(attendance_vars[(e, d)] for d in week) >= min_visits_per_week)\n",
    "        end\n",
    "    end\n",
    "\n",
    "    # Linearization constraints\n",
    "    for d in days\n",
    "        for (e1, e2) in employee_pairs\n",
    "            @constraint(roster_model, z_vars[(e1, e2, d)] <= attendance_vars[(e1, d)])\n",
    "            @constraint(roster_model, z_vars[(e1, e2, d)] <= attendance_vars[(e2, d)])\n",
    "            @constraint(roster_model, z_vars[(e1, e2, d)] >= attendance_vars[(e1, d)] + attendance_vars[(e2, d)] - 1)\n",
    "        end\n",
    "    end\n",
    "    return roster_model, attendance_vars\n",
    "end\n",
    "\n",
    "model, attendance_vars = build_model(employee_names, day_names, preferences, connections, NUM_SPOTS, MAX_VISITS_PER_WEEK, MIN_VISITS_PER_WEEK);"
   ]
  },
  {
   "cell_type": "code",
   "execution_count": 181,
   "metadata": {
    "scrolled": false
   },
   "outputs": [],
   "source": [
    "JuMP.latex_formulation(model);"
   ]
  },
  {
   "cell_type": "markdown",
   "metadata": {},
   "source": [
    "### Run optimization"
   ]
  },
  {
   "cell_type": "code",
   "execution_count": 182,
   "metadata": {},
   "outputs": [
    {
     "name": "stdout",
     "output_type": "stream",
     "text": [
      "Welcome to the CBC MILP Solver \n",
      "Version: 2.10.5 \n",
      "Build Date: Jan  1 1970 \n",
      "\n",
      "command line - Cbc_C_Interface -solve -quit (default strategy 1)\n",
      "Continuous objective value is 42 - 0.00 seconds\n",
      "Cgl0003I 0 fixed, 0 tightened bounds, 15 strengthened rows, 0 substitutions\n",
      "Cgl0003I 0 fixed, 0 tightened bounds, 15 strengthened rows, 0 substitutions\n",
      "Cgl0004I processed model has 38 rows, 30 columns (30 integer (30 of which binary)) and 120 elements\n",
      "Cutoff increment increased from 1e-05 to 0.9999\n",
      "Cbc0038I Initial state - 0 integers unsatisfied sum - 0\n",
      "Cbc0038I Solution found of -42\n",
      "Cbc0038I Before mini branch and bound, 30 integers at bound fixed and 0 continuous\n",
      "Cbc0038I Mini branch and bound did not improve solution (0.00 seconds)\n",
      "Cbc0038I After 0.00 seconds - Feasibility pump exiting with objective of -42 - took 0.00 seconds\n",
      "Cbc0012I Integer solution of -42 found by feasibility pump after 0 iterations and 0 nodes (0.00 seconds)\n",
      "Cbc0001I Search completed - best objective -42, took 0 iterations and 0 nodes (0.00 seconds)\n",
      "Cbc0035I Maximum depth 0, 0 variables fixed on reduced cost\n",
      "Cuts at root node changed objective from -42 to -42\n",
      "Probing was tried 0 times and created 0 cuts of which 0 were active after adding rounds of cuts (0.000 seconds)\n",
      "Gomory was tried 0 times and created 0 cuts of which 0 were active after adding rounds of cuts (0.000 seconds)\n",
      "Knapsack was tried 0 times and created 0 cuts of which 0 were active after adding rounds of cuts (0.000 seconds)\n",
      "Clique was tried 0 times and created 0 cuts of which 0 were active after adding rounds of cuts (0.000 seconds)\n",
      "MixedIntegerRounding2 was tried 0 times and created 0 cuts of which 0 were active after adding rounds of cuts (0.000 seconds)\n",
      "FlowCover was tried 0 times and created 0 cuts of which 0 were active after adding rounds of cuts (0.000 seconds)\n",
      "TwoMirCuts was tried 0 times and created 0 cuts of which 0 were active after adding rounds of cuts (0.000 seconds)\n",
      "ZeroHalf was tried 0 times and created 0 cuts of which 0 were active after adding rounds of cuts (0.000 seconds)\n",
      "\n",
      "Result - Optimal solution found\n",
      "\n",
      "Objective value:                42.00000000\n",
      "Enumerated nodes:               0\n",
      "Total iterations:               0\n",
      "Time (CPU seconds):             0.00\n",
      "Time (Wallclock seconds):       0.00\n",
      "\n",
      "Total time (CPU seconds):       0.00   (Wallclock seconds):       0.00\n",
      "\n"
     ]
    }
   ],
   "source": [
    "optimize!(model)"
   ]
  },
  {
   "cell_type": "markdown",
   "metadata": {},
   "source": [
    "#### Print results - watch out, can be large, depending on the size of your problem."
   ]
  },
  {
   "cell_type": "code",
   "execution_count": 184,
   "metadata": {},
   "outputs": [
    {
     "name": "stdout",
     "output_type": "stream",
     "text": [
      "Status = OPTIMAL\n",
      "Solution = 42.0\n",
      "\n",
      "    Tony: 1, 0, 1, 0, 0, \n",
      "   Bruce: 1, 0, 1, 0, 0, \n",
      "   Steve: 0, 1, 0, 1, 0, \n"
     ]
    }
   ],
   "source": [
    "println(\"Status = \", termination_status(model))\n",
    "println(\"Solution = \", objective_value(model))\n",
    "println()\n",
    "\n",
    "for e in employees\n",
    "    n = lpad(employee_names[e], 8)\n",
    "    print(\"$(n): \")\n",
    "    for d in days\n",
    "        print(convert(Int8, value(attendance_vars[(e, d)])), \", \")\n",
    "    end\n",
    "    println()\n",
    "end"
   ]
  },
  {
   "cell_type": "markdown",
   "metadata": {},
   "source": [
    "### Utility funciton - save solution to an Excel file"
   ]
  },
  {
   "cell_type": "code",
   "execution_count": 185,
   "metadata": {},
   "outputs": [
    {
     "data": {
      "text/plain": [
       "save_solution (generic function with 1 method)"
      ]
     },
     "execution_count": 185,
     "metadata": {},
     "output_type": "execute_result"
    }
   ],
   "source": [
    "function save_solution(output_file_name::String, \n",
    "        employee_names::Array{String,1}, \n",
    "        day_names::Array{String,1}, attendance_vars)\n",
    "\n",
    "    employees, days = get_optimization_ranges(employee_names, day_names)\n",
    "    allocations = [[convert(Int64, value(attendance_vars[(e, d)])) for d in days] for e in employees]\n",
    "\n",
    "    XLSX.openxlsx(output_file_name, mode=\"w\") do xf\n",
    "        sheet = xf[1]\n",
    "        XLSX.rename!(sheet, \"schedule\")\n",
    "        sheet[2, 1, dim=1] = employee_names # dim=1 means column\n",
    "        sheet[1, 2, dim=2] = day_names # dim=2 means row\n",
    "        for e in employees\n",
    "            for d in days\n",
    "                sheet[1 + e, 1 + d] = allocations[e][d]\n",
    "            end\n",
    "        end\n",
    "    end\n",
    "end"
   ]
  },
  {
   "cell_type": "code",
   "execution_count": 186,
   "metadata": {},
   "outputs": [],
   "source": [
    "output_file_name = \"schedule.xlsx\"\n",
    "save_solution(output_file_name, employee_names, day_names, attendance_vars)"
   ]
  },
  {
   "cell_type": "code",
   "execution_count": null,
   "metadata": {},
   "outputs": [],
   "source": []
  }
 ],
 "metadata": {
  "kernelspec": {
   "display_name": "Julia 1.7.2",
   "language": "julia",
   "name": "julia-1.7"
  },
  "language_info": {
   "file_extension": ".jl",
   "mimetype": "application/julia",
   "name": "julia",
   "version": "1.7.2"
  }
 },
 "nbformat": 4,
 "nbformat_minor": 4
}
