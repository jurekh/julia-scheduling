{
 "cells": [
  {
   "cell_type": "markdown",
   "metadata": {
    "slideshow": {
     "slide_type": "slide"
    }
   },
   "source": [
    "## ~~Employee Scheduling Solver~~\n",
    "# Scheduling Superpowers"
   ]
  },
  {
   "cell_type": "markdown",
   "metadata": {
    "slideshow": {
     "slide_type": "subslide"
    }
   },
   "source": [
    "## Introduction\n",
    "This notebook was created to help solve employee scheduling problem during post-peak Coronavirus period.\n",
    "\n",
    "In my company, during Coronavirus lockdown, most people in my part of the organization worked from home. When the virus spread subsided, we started preparing for a controlled return to the office. One of many safety measures we implemented was limiting the number of workspots per floor to maintain 1.5 meter distance.\n",
    "\n",
    "With the number of workspots reduced, not everyone can come to the office at the same time. Everyone has a preference on which days to come in. Teams that work together should come together. Figuring out a schedule manually, even for a small group of people, is a tedious and error-prone task. There must be a better way..."
   ]
  },
  {
   "cell_type": "markdown",
   "metadata": {
    "slideshow": {
     "slide_type": "subslide"
    }
   },
   "source": [
    "One way of looking at schedule construction is treating it like a mathematical optimization problem:\n",
    "* Define \"utility\" value of a schedule as a sum of happiness of employees. Coming in on a preferred day makes an employee happy. Coming in on a non-preferred day makes an employee very unhappy. Coming in together with teammates makes employees happier. \n",
    "* Maximize the \"utility\" of a schedule, given constraints:\n",
    " - Number of employees who come in on any given day should not exceed the number of available workspots.\n",
    " - Optional: number of times an employee comes in each week should not exceed an arbitrary number, to give everyone a chance to come to the office.\n",
    " \n",
    "This type of optimization problem can be solved by a Mixed Integer Linear Program (MILP) solver. The code below shows how to construct such a problem, feed it to the solver, and show the solution."
   ]
  },
  {
   "cell_type": "markdown",
   "metadata": {
    "slideshow": {
     "slide_type": "slide"
    }
   },
   "source": [
    "## Alternative narrative\n",
    "This approach works equally well for the following problem:\n",
    "\n",
    "A small group of the Avengers are on a rotating patrol duty this week. Each day, two Avengers share a Quinjet and fight evil around the world.\n",
    "\n",
    "* A Quinjet fits only one or two Avengers.\n",
    "* Each Avenger should be on duty at least once a week, but not more than two days per week.\n",
    "* Each Avenger has personal preferences regarding which days they want to work.\n",
    "* Each Avenger has personal preferences regarding with whom they want to work.\n",
    "\n",
    "Your boss, Nick Fury, asked you to \"make a damn schedule, and make it damn work\".\n",
    "\n",
    "So you get to work. ¯\\\\\\_(ツ)_/¯\n"
   ]
  },
  {
   "cell_type": "markdown",
   "metadata": {
    "slideshow": {
     "slide_type": "slide"
    }
   },
   "source": [
    "### Quinjet\n",
    "![quinjet](quinjet.jpg)<br/>\n",
    "\n",
    "That's what our Avengers need to share\n",
    "\n",
    "_Image from_ https://marvelcinematicuniverse.fandom.com/wiki/Quinjet"
   ]
  },
  {
   "cell_type": "markdown",
   "metadata": {
    "slideshow": {
     "slide_type": "slide"
    }
   },
   "source": [
    "### Bad couple\n",
    "![Tony vs Steve](tony-vs-steve.jpeg)<br/>\n",
    "\n",
    "\n",
    "Bad things will happen when we schedule these two to patrol together.\n",
    "\n",
    "_Marvel image via_ https://www.businessinsider.com/captain-america-vs-iron-man-whos-right-in-marvels-civil-war-2018-4"
   ]
  },
  {
   "cell_type": "markdown",
   "metadata": {
    "slideshow": {
     "slide_type": "slide"
    }
   },
   "source": [
    "### Good couple\n",
    "![Tony and Bruce](tony-and-bruce.jpg)<br/>\n",
    "\n",
    "These two can work together well.\n",
    "\n",
    "_Image from_ https://screenrant.com/science-bros-best-tony-stark-bruce-banner-moments-marvel-cinematic-universe/"
   ]
  },
  {
   "cell_type": "markdown",
   "metadata": {
    "slideshow": {
     "slide_type": "slide"
    }
   },
   "source": [
    "# Method"
   ]
  },
  {
   "cell_type": "markdown",
   "metadata": {
    "slideshow": {
     "slide_type": "subslide"
    }
   },
   "source": [
    "## Input parameters\n"
   ]
  },
  {
   "cell_type": "markdown",
   "metadata": {
    "slideshow": {
     "slide_type": "subslide"
    }
   },
   "source": [
    "### Preferences\n",
    "![Preferences](preferences.png)\n",
    "* Y - I want to work on this day (score: 5)\n",
    "* M - I can work on this day (score: 1)\n",
    "* N - I don't want to work this day (score: -99)"
   ]
  },
  {
   "cell_type": "markdown",
   "metadata": {
    "slideshow": {
     "slide_type": "subslide"
    }
   },
   "source": [
    "This lets us construct a schedule by treating it like a mathematical optimization problem:\n",
    "* Define \"utility\" value of a schedule as a sum of happiness of employees. Coming in on a preferred day makes an employee happy. Coming in on a non-preferred day makes an employee very unhappy. Coming in together with teammates makes employees happier. \n",
    "* Maximize the \"utility\" of a schedule, given constraints:\n",
    " - Number of employees who come in on any given day should not exceed the number of available workspots.\n",
    " - Optional: number of times an employee comes in each week should not exceed a given number\n",
    " - Optional: number of times an employee comes in each week should not be below a given number\n",
    "  "
   ]
  },
  {
   "cell_type": "markdown",
   "metadata": {
    "slideshow": {
     "slide_type": "subslide"
    }
   },
   "source": [
    "### Relationships\n",
    "![Connections](connections.png)\n",
    "\n",
    "Only the upper triangular part of this matrix is useful for us. Positive numbers indicate that people in the corresponding row and column like to work together. Negative numbers indicate an antipreference. As you can see, there's no love lost between Tony and Steve.\n",
    "\n",
    "We can use that to further improve the way we build the schedule. For each two employees scheduled together on a given day, we add to the utility function their relationship score. The value of the function will increase if we schedule together people who like each other, and drop if they don't."
   ]
  },
  {
   "cell_type": "markdown",
   "metadata": {
    "slideshow": {
     "slide_type": "subslide"
    }
   },
   "source": [
    "[File with all input information](input-small.xlsx)"
   ]
  },
  {
   "cell_type": "markdown",
   "metadata": {
    "slideshow": {
     "slide_type": "subslide"
    }
   },
   "source": [
    "## What does this utility function look like then?\n",
    "\n",
    "![Utility](utility.png)"
   ]
  },
  {
   "cell_type": "markdown",
   "metadata": {
    "slideshow": {
     "slide_type": "slide"
    }
   },
   "source": [
    "## Computation\n",
    "\n",
    "We will use Julia to load the data, define the utility functions and constraints, and tell an optimization engine to maximize Avengers' happiness given the following constraints:\n",
    "* maximum two Avengers are on patrol each day\n",
    "* each Avenger can be on patrol duty maximum twice per week\n",
    "* each Avenger must be on patrol duty at least once per week"
   ]
  },
  {
   "cell_type": "code",
   "execution_count": 1,
   "metadata": {
    "slideshow": {
     "slide_type": "skip"
    }
   },
   "outputs": [],
   "source": [
    "using JuMP\n",
    "using Cbc\n",
    "using Combinatorics\n",
    "using Base.Iterators\n",
    "using XLSX"
   ]
  },
  {
   "cell_type": "markdown",
   "metadata": {
    "slideshow": {
     "slide_type": "skip"
    }
   },
   "source": [
    "### Utility function - load data from Excel sheet"
   ]
  },
  {
   "cell_type": "code",
   "execution_count": 2,
   "metadata": {
    "slideshow": {
     "slide_type": "skip"
    }
   },
   "outputs": [
    {
     "data": {
      "text/plain": [
       "load_data (generic function with 1 method)"
      ]
     },
     "execution_count": 2,
     "metadata": {},
     "output_type": "execute_result"
    }
   ],
   "source": [
    "# The data is loaded from named ranges. See example sheet for reference.\n",
    "# \n",
    "# Preferences of employees to attend each day are indicated with\n",
    "#   Y (yes, strength 5), M (maybe, strength 1) and N (no, strength -99).\n",
    "# Empty cells are treated as \"N\"\n",
    "#\n",
    "# Connections between employees are indicated by integers. Positive values will steer the scheduler\n",
    "# to schedule those people together. Negative values can be used to ensure that some people are never scheduled together.\n",
    "# Empty cells are treated as 0.\n",
    "\n",
    "function load_data(input_file_name)\n",
    "    xf = XLSX.openxlsx(input_file_name)\n",
    "    sheet = xf[1]\n",
    "    my_employee_names = sheet[\"EmployeeNames\"]\n",
    "    my_day_names = sheet[\"DayNames\"]\n",
    "    my_preferences = sheet[\"Preferences\"]\n",
    "    my_connections = sheet[\"Connections\"]\n",
    "    close(xf)\n",
    "\n",
    "    day_names = string.(reshape(my_day_names, size(my_day_names)[2]) )\n",
    "    employee_names = string.(reshape(my_employee_names, size(my_employee_names)[1]))\n",
    "    connections = Int64.(replace(my_connections, missing => 0))\n",
    "    preferences = Int64.(replace(lowercase.(replace(my_preferences, missing => \"N\")),\n",
    "                \"y\" => 5, \"m\" => 1, \"n\" => -99))\n",
    "\n",
    "    n_days = size(day_names)[1]\n",
    "    n_employees = size(employee_names)[1]\n",
    "    @assert (n_employees, n_employees) == size(connections)\n",
    "    @assert (n_employees, n_days) == size(preferences)\n",
    "    return (employee_names, day_names, preferences, connections)\n",
    "end"
   ]
  },
  {
   "cell_type": "markdown",
   "metadata": {
    "slideshow": {
     "slide_type": "skip"
    }
   },
   "source": [
    "#### Load real data from a sheet"
   ]
  },
  {
   "cell_type": "code",
   "execution_count": 25,
   "metadata": {
    "slideshow": {
     "slide_type": "subslide"
    }
   },
   "outputs": [],
   "source": [
    "#input_file_name = \"input.xlsx\"\n",
    "input_file_name = \"input-small.xlsx\"\n",
    "NUM_SPOTS = 2 # The number of available workspots\n",
    "MAX_VISITS_PER_WEEK = 2\n",
    "MIN_VISITS_PER_WEEK = 1\n",
    "employee_names, day_names, preferences, connections = load_data(input_file_name);"
   ]
  },
  {
   "cell_type": "markdown",
   "metadata": {
    "slideshow": {
     "slide_type": "skip"
    }
   },
   "source": [
    "### Compute utility variables"
   ]
  },
  {
   "cell_type": "code",
   "execution_count": 26,
   "metadata": {
    "slideshow": {
     "slide_type": "skip"
    }
   },
   "outputs": [],
   "source": [
    "function get_optimization_ranges(employee_names, day_names)\n",
    "    employees = 1:length(employee_names)\n",
    "    days = 1:length(day_names)\n",
    "    return (employees, days)\n",
    "end\n",
    "\n",
    "employees, days = get_optimization_ranges(employee_names, day_names)\n",
    "employee_pairs = collect(combinations(employees, 2));"
   ]
  },
  {
   "cell_type": "code",
   "execution_count": 27,
   "metadata": {
    "slideshow": {
     "slide_type": "skip"
    }
   },
   "outputs": [],
   "source": [
    "#employees, days, employee_pairs"
   ]
  },
  {
   "cell_type": "markdown",
   "metadata": {
    "slideshow": {
     "slide_type": "subslide"
    }
   },
   "source": [
    "### Construction of the model"
   ]
  },
  {
   "cell_type": "code",
   "execution_count": 28,
   "metadata": {
    "slideshow": {
     "slide_type": "subslide"
    }
   },
   "outputs": [],
   "source": [
    "function build_model(employee_names::Array{String,1}, day_names::Array{String,1},\n",
    "        preferences::Array{Int64,2}, connections::Array{Int64,2}, \n",
    "        num_spots::Int64, max_visits_per_week::Int64, min_visits_per_week::Int64)\n",
    "\n",
    "    roster_model = Model(Cbc.Optimizer)\n",
    "\n",
    "    employees, days = get_optimization_ranges(employee_names, day_names)\n",
    "    employee_pairs = collect(combinations(employees, 2));\n",
    "\n",
    "    # Attendance variables - employee per day\n",
    "    attendance_vars = Dict((e, d) => @variable(roster_model, \n",
    "            base_name=\"{$(employee_names[e])}_on_{$(day_names[d])}\", binary=true) \n",
    "        for e in employees for d in days)\n",
    "\n",
    "    # Linearization variables\n",
    "    z_vars = Dict((e1, e2, d) => @variable(roster_model, \n",
    "            base_name=\"$(employee_names[e1])_{$(employee_names[e2])}_on_$(day_names[d])\", binary=true)\n",
    "        for (e1, e2) in employee_pairs for d in days)\n",
    "\n",
    "    # Maximize the sum of preferences of all attending employees\n",
    "    # and the sum of connections between present employees\n",
    "    @objective(roster_model, Max, \n",
    "        sum(preferences[e, d] * attendance_vars[(e, d)] for e in employees for d in days) + \n",
    "        sum(z_vars[(e1, e2, d)] * connections[e1, e2] for (e1, e2) in employee_pairs for d in days))\n",
    "\n",
    "    # Limit the number of employees attending each day to NUM_SPOTS\n",
    "    for d in days\n",
    "        @constraint(roster_model, sum(attendance_vars[(e, d)] for e in employees) <= num_spots)\n",
    "    end\n",
    "\n",
    "    # Limit max number of visits per employee per week to MAX_VISITS_PER_WEEK\n",
    "    for week in partition(days, 5)\n",
    "        for e in employees\n",
    "            @constraint(roster_model, sum(attendance_vars[(e, d)] for d in week) <= max_visits_per_week)\n",
    "            @constraint(roster_model, sum(attendance_vars[(e, d)] for d in week) >= min_visits_per_week)\n",
    "        end\n",
    "    end\n",
    "\n",
    "    # Linearization constraints\n",
    "    for d in days\n",
    "        for (e1, e2) in employee_pairs\n",
    "            @constraint(roster_model, z_vars[(e1, e2, d)] <= attendance_vars[(e1, d)])\n",
    "            @constraint(roster_model, z_vars[(e1, e2, d)] <= attendance_vars[(e2, d)])\n",
    "            @constraint(roster_model, z_vars[(e1, e2, d)] >= attendance_vars[(e1, d)] + attendance_vars[(e2, d)] - 1)\n",
    "        end\n",
    "    end\n",
    "    return roster_model, attendance_vars\n",
    "end\n",
    "\n",
    "model, attendance_vars = build_model(employee_names, day_names, preferences, connections,\n",
    "    NUM_SPOTS, MAX_VISITS_PER_WEEK, MIN_VISITS_PER_WEEK);"
   ]
  },
  {
   "cell_type": "code",
   "execution_count": 29,
   "metadata": {
    "scrolled": false,
    "slideshow": {
     "slide_type": "subslide"
    }
   },
   "outputs": [
    {
     "data": {
      "text/latex": [
       "$$ \\begin{aligned}\n",
       "\\max\\quad & 5 {Tony}\\_on\\_{Mon 28/02} + {Tony}\\_on\\_{Tue 01/03} + 5 {Tony}\\_on\\_{Wed 02/03} + 5 {Tony}\\_on\\_{Thu 03/03} + 5 {Tony}\\_on\\_{Fri 04/03} + {Bruce}\\_on\\_{Mon 28/02} + 5 {Bruce}\\_on\\_{Tue 01/03} + {Bruce}\\_on\\_{Wed 02/03} + {Bruce}\\_on\\_{Thu 03/03} - 99 {Bruce}\\_on\\_{Fri 04/03} + {Steve}\\_on\\_{Mon 28/02} + 5 {Steve}\\_on\\_{Tue 01/03} + {Steve}\\_on\\_{Wed 02/03} + 5 {Steve}\\_on\\_{Thu 03/03} + {Steve}\\_on\\_{Fri 04/03} + 10 Tony\\_{Bruce}\\_on\\_Mon 28/02 + 10 Tony\\_{Bruce}\\_on\\_Tue 01/03 + 10 Tony\\_{Bruce}\\_on\\_Wed 02/03 + 10 Tony\\_{Bruce}\\_on\\_Thu 03/03 + 10 Tony\\_{Bruce}\\_on\\_Fri 04/03 - 10 Tony\\_{Steve}\\_on\\_Mon 28/02 - 10 Tony\\_{Steve}\\_on\\_Tue 01/03 - 10 Tony\\_{Steve}\\_on\\_Wed 02/03 - 10 Tony\\_{Steve}\\_on\\_Thu 03/03 - 10 Tony\\_{Steve}\\_on\\_Fri 04/03 + Bruce\\_{Steve}\\_on\\_Mon 28/02 + Bruce\\_{Steve}\\_on\\_Tue 01/03 + Bruce\\_{Steve}\\_on\\_Wed 02/03 + Bruce\\_{Steve}\\_on\\_Thu 03/03 + Bruce\\_{Steve}\\_on\\_Fri 04/03\\\\\n",
       "\\text{Subject to} \\quad & {Tony}\\_on\\_{Mon 28/02} + {Tony}\\_on\\_{Tue 01/03} + {Tony}\\_on\\_{Wed 02/03} + {Tony}\\_on\\_{Thu 03/03} + {Tony}\\_on\\_{Fri 04/03} \\geq 1.0\\\\\n",
       " & {Bruce}\\_on\\_{Mon 28/02} + {Bruce}\\_on\\_{Tue 01/03} + {Bruce}\\_on\\_{Wed 02/03} + {Bruce}\\_on\\_{Thu 03/03} + {Bruce}\\_on\\_{Fri 04/03} \\geq 1.0\\\\\n",
       " & {Steve}\\_on\\_{Mon 28/02} + {Steve}\\_on\\_{Tue 01/03} + {Steve}\\_on\\_{Wed 02/03} + {Steve}\\_on\\_{Thu 03/03} + {Steve}\\_on\\_{Fri 04/03} \\geq 1.0\\\\\n",
       " & -{Tony}\\_on\\_{Mon 28/02} - {Bruce}\\_on\\_{Mon 28/02} + Tony\\_{Bruce}\\_on\\_Mon 28/02 \\geq -1.0\\\\\n",
       " & -{Tony}\\_on\\_{Mon 28/02} - {Steve}\\_on\\_{Mon 28/02} + Tony\\_{Steve}\\_on\\_Mon 28/02 \\geq -1.0\\\\\n",
       " & -{Bruce}\\_on\\_{Mon 28/02} - {Steve}\\_on\\_{Mon 28/02} + Bruce\\_{Steve}\\_on\\_Mon 28/02 \\geq -1.0\\\\\n",
       " & -{Tony}\\_on\\_{Tue 01/03} - {Bruce}\\_on\\_{Tue 01/03} + Tony\\_{Bruce}\\_on\\_Tue 01/03 \\geq -1.0\\\\\n",
       " & -{Tony}\\_on\\_{Tue 01/03} - {Steve}\\_on\\_{Tue 01/03} + Tony\\_{Steve}\\_on\\_Tue 01/03 \\geq -1.0\\\\\n",
       " & -{Bruce}\\_on\\_{Tue 01/03} - {Steve}\\_on\\_{Tue 01/03} + Bruce\\_{Steve}\\_on\\_Tue 01/03 \\geq -1.0\\\\\n",
       " & -{Tony}\\_on\\_{Wed 02/03} - {Bruce}\\_on\\_{Wed 02/03} + Tony\\_{Bruce}\\_on\\_Wed 02/03 \\geq -1.0\\\\\n",
       " & -{Tony}\\_on\\_{Wed 02/03} - {Steve}\\_on\\_{Wed 02/03} + Tony\\_{Steve}\\_on\\_Wed 02/03 \\geq -1.0\\\\\n",
       " & -{Bruce}\\_on\\_{Wed 02/03} - {Steve}\\_on\\_{Wed 02/03} + Bruce\\_{Steve}\\_on\\_Wed 02/03 \\geq -1.0\\\\\n",
       " & -{Tony}\\_on\\_{Thu 03/03} - {Bruce}\\_on\\_{Thu 03/03} + Tony\\_{Bruce}\\_on\\_Thu 03/03 \\geq -1.0\\\\\n",
       " & -{Tony}\\_on\\_{Thu 03/03} - {Steve}\\_on\\_{Thu 03/03} + Tony\\_{Steve}\\_on\\_Thu 03/03 \\geq -1.0\\\\\n",
       " & -{Bruce}\\_on\\_{Thu 03/03} - {Steve}\\_on\\_{Thu 03/03} + Bruce\\_{Steve}\\_on\\_Thu 03/03 \\geq -1.0\\\\\n",
       " & -{Tony}\\_on\\_{Fri 04/03} - {Bruce}\\_on\\_{Fri 04/03} + Tony\\_{Bruce}\\_on\\_Fri 04/03 \\geq -1.0\\\\\n",
       " & -{Tony}\\_on\\_{Fri 04/03} - {Steve}\\_on\\_{Fri 04/03} + Tony\\_{Steve}\\_on\\_Fri 04/03 \\geq -1.0\\\\\n",
       " & -{Bruce}\\_on\\_{Fri 04/03} - {Steve}\\_on\\_{Fri 04/03} + Bruce\\_{Steve}\\_on\\_Fri 04/03 \\geq -1.0\\\\\n",
       " & {Tony}\\_on\\_{Mon 28/02} + {Bruce}\\_on\\_{Mon 28/02} + {Steve}\\_on\\_{Mon 28/02} \\leq 2.0\\\\\n",
       " & {Tony}\\_on\\_{Tue 01/03} + {Bruce}\\_on\\_{Tue 01/03} + {Steve}\\_on\\_{Tue 01/03} \\leq 2.0\\\\\n",
       " & {Tony}\\_on\\_{Wed 02/03} + {Bruce}\\_on\\_{Wed 02/03} + {Steve}\\_on\\_{Wed 02/03} \\leq 2.0\\\\\n",
       " & {Tony}\\_on\\_{Thu 03/03} + {Bruce}\\_on\\_{Thu 03/03} + {Steve}\\_on\\_{Thu 03/03} \\leq 2.0\\\\\n",
       " & {Tony}\\_on\\_{Fri 04/03} + {Bruce}\\_on\\_{Fri 04/03} + {Steve}\\_on\\_{Fri 04/03} \\leq 2.0\\\\\n",
       " & {Tony}\\_on\\_{Mon 28/02} + {Tony}\\_on\\_{Tue 01/03} + {Tony}\\_on\\_{Wed 02/03} + {Tony}\\_on\\_{Thu 03/03} + {Tony}\\_on\\_{Fri 04/03} \\leq 2.0\\\\\n",
       " & {Bruce}\\_on\\_{Mon 28/02} + {Bruce}\\_on\\_{Tue 01/03} + {Bruce}\\_on\\_{Wed 02/03} + {Bruce}\\_on\\_{Thu 03/03} + {Bruce}\\_on\\_{Fri 04/03} \\leq 2.0\\\\\n",
       " & {Steve}\\_on\\_{Mon 28/02} + {Steve}\\_on\\_{Tue 01/03} + {Steve}\\_on\\_{Wed 02/03} + {Steve}\\_on\\_{Thu 03/03} + {Steve}\\_on\\_{Fri 04/03} \\leq 2.0\\\\\n",
       " & -{Tony}\\_on\\_{Mon 28/02} + Tony\\_{Bruce}\\_on\\_Mon 28/02 \\leq 0.0\\\\\n",
       " & -{Bruce}\\_on\\_{Mon 28/02} + Tony\\_{Bruce}\\_on\\_Mon 28/02 \\leq 0.0\\\\\n",
       " & -{Tony}\\_on\\_{Mon 28/02} + Tony\\_{Steve}\\_on\\_Mon 28/02 \\leq 0.0\\\\\n",
       " & -{Steve}\\_on\\_{Mon 28/02} + Tony\\_{Steve}\\_on\\_Mon 28/02 \\leq 0.0\\\\\n",
       " & -{Bruce}\\_on\\_{Mon 28/02} + Bruce\\_{Steve}\\_on\\_Mon 28/02 \\leq 0.0\\\\\n",
       " & -{Steve}\\_on\\_{Mon 28/02} + Bruce\\_{Steve}\\_on\\_Mon 28/02 \\leq 0.0\\\\\n",
       " & -{Tony}\\_on\\_{Tue 01/03} + Tony\\_{Bruce}\\_on\\_Tue 01/03 \\leq 0.0\\\\\n",
       " & -{Bruce}\\_on\\_{Tue 01/03} + Tony\\_{Bruce}\\_on\\_Tue 01/03 \\leq 0.0\\\\\n",
       " & -{Tony}\\_on\\_{Tue 01/03} + Tony\\_{Steve}\\_on\\_Tue 01/03 \\leq 0.0\\\\\n",
       " & -{Steve}\\_on\\_{Tue 01/03} + Tony\\_{Steve}\\_on\\_Tue 01/03 \\leq 0.0\\\\\n",
       " & -{Bruce}\\_on\\_{Tue 01/03} + Bruce\\_{Steve}\\_on\\_Tue 01/03 \\leq 0.0\\\\\n",
       " & -{Steve}\\_on\\_{Tue 01/03} + Bruce\\_{Steve}\\_on\\_Tue 01/03 \\leq 0.0\\\\\n",
       " & -{Tony}\\_on\\_{Wed 02/03} + Tony\\_{Bruce}\\_on\\_Wed 02/03 \\leq 0.0\\\\\n",
       " & -{Bruce}\\_on\\_{Wed 02/03} + Tony\\_{Bruce}\\_on\\_Wed 02/03 \\leq 0.0\\\\\n",
       " & -{Tony}\\_on\\_{Wed 02/03} + Tony\\_{Steve}\\_on\\_Wed 02/03 \\leq 0.0\\\\\n",
       " & -{Steve}\\_on\\_{Wed 02/03} + Tony\\_{Steve}\\_on\\_Wed 02/03 \\leq 0.0\\\\\n",
       " & -{Bruce}\\_on\\_{Wed 02/03} + Bruce\\_{Steve}\\_on\\_Wed 02/03 \\leq 0.0\\\\\n",
       " & -{Steve}\\_on\\_{Wed 02/03} + Bruce\\_{Steve}\\_on\\_Wed 02/03 \\leq 0.0\\\\\n",
       " & -{Tony}\\_on\\_{Thu 03/03} + Tony\\_{Bruce}\\_on\\_Thu 03/03 \\leq 0.0\\\\\n",
       " & -{Bruce}\\_on\\_{Thu 03/03} + Tony\\_{Bruce}\\_on\\_Thu 03/03 \\leq 0.0\\\\\n",
       " & -{Tony}\\_on\\_{Thu 03/03} + Tony\\_{Steve}\\_on\\_Thu 03/03 \\leq 0.0\\\\\n",
       " & -{Steve}\\_on\\_{Thu 03/03} + Tony\\_{Steve}\\_on\\_Thu 03/03 \\leq 0.0\\\\\n",
       " & -{Bruce}\\_on\\_{Thu 03/03} + Bruce\\_{Steve}\\_on\\_Thu 03/03 \\leq 0.0\\\\\n",
       " & -{Steve}\\_on\\_{Thu 03/03} + Bruce\\_{Steve}\\_on\\_Thu 03/03 \\leq 0.0\\\\\n",
       " & -{Tony}\\_on\\_{Fri 04/03} + Tony\\_{Bruce}\\_on\\_Fri 04/03 \\leq 0.0\\\\\n",
       " & -{Bruce}\\_on\\_{Fri 04/03} + Tony\\_{Bruce}\\_on\\_Fri 04/03 \\leq 0.0\\\\\n",
       " & -{Tony}\\_on\\_{Fri 04/03} + Tony\\_{Steve}\\_on\\_Fri 04/03 \\leq 0.0\\\\\n",
       " & -{Steve}\\_on\\_{Fri 04/03} + Tony\\_{Steve}\\_on\\_Fri 04/03 \\leq 0.0\\\\\n",
       " & -{Bruce}\\_on\\_{Fri 04/03} + Bruce\\_{Steve}\\_on\\_Fri 04/03 \\leq 0.0\\\\\n",
       " & -{Steve}\\_on\\_{Fri 04/03} + Bruce\\_{Steve}\\_on\\_Fri 04/03 \\leq 0.0\\\\\n",
       " & {Tony}\\_on\\_{Mon 28/02} \\in \\{0, 1\\}\\\\\n",
       " & {Tony}\\_on\\_{Tue 01/03} \\in \\{0, 1\\}\\\\\n",
       " & {Tony}\\_on\\_{Wed 02/03} \\in \\{0, 1\\}\\\\\n",
       " & {Tony}\\_on\\_{Thu 03/03} \\in \\{0, 1\\}\\\\\n",
       " & {Tony}\\_on\\_{Fri 04/03} \\in \\{0, 1\\}\\\\\n",
       " & {Bruce}\\_on\\_{Mon 28/02} \\in \\{0, 1\\}\\\\\n",
       " & {Bruce}\\_on\\_{Tue 01/03} \\in \\{0, 1\\}\\\\\n",
       " & {Bruce}\\_on\\_{Wed 02/03} \\in \\{0, 1\\}\\\\\n",
       " & {Bruce}\\_on\\_{Thu 03/03} \\in \\{0, 1\\}\\\\\n",
       " & {Bruce}\\_on\\_{Fri 04/03} \\in \\{0, 1\\}\\\\\n",
       " & {Steve}\\_on\\_{Mon 28/02} \\in \\{0, 1\\}\\\\\n",
       " & {Steve}\\_on\\_{Tue 01/03} \\in \\{0, 1\\}\\\\\n",
       " & {Steve}\\_on\\_{Wed 02/03} \\in \\{0, 1\\}\\\\\n",
       " & {Steve}\\_on\\_{Thu 03/03} \\in \\{0, 1\\}\\\\\n",
       " & {Steve}\\_on\\_{Fri 04/03} \\in \\{0, 1\\}\\\\\n",
       " & Tony\\_{Bruce}\\_on\\_Mon 28/02 \\in \\{0, 1\\}\\\\\n",
       " & Tony\\_{Bruce}\\_on\\_Tue 01/03 \\in \\{0, 1\\}\\\\\n",
       " & Tony\\_{Bruce}\\_on\\_Wed 02/03 \\in \\{0, 1\\}\\\\\n",
       " & Tony\\_{Bruce}\\_on\\_Thu 03/03 \\in \\{0, 1\\}\\\\\n",
       " & Tony\\_{Bruce}\\_on\\_Fri 04/03 \\in \\{0, 1\\}\\\\\n",
       " & Tony\\_{Steve}\\_on\\_Mon 28/02 \\in \\{0, 1\\}\\\\\n",
       " & Tony\\_{Steve}\\_on\\_Tue 01/03 \\in \\{0, 1\\}\\\\\n",
       " & Tony\\_{Steve}\\_on\\_Wed 02/03 \\in \\{0, 1\\}\\\\\n",
       " & Tony\\_{Steve}\\_on\\_Thu 03/03 \\in \\{0, 1\\}\\\\\n",
       " & Tony\\_{Steve}\\_on\\_Fri 04/03 \\in \\{0, 1\\}\\\\\n",
       " & Bruce\\_{Steve}\\_on\\_Mon 28/02 \\in \\{0, 1\\}\\\\\n",
       " & Bruce\\_{Steve}\\_on\\_Tue 01/03 \\in \\{0, 1\\}\\\\\n",
       " & Bruce\\_{Steve}\\_on\\_Wed 02/03 \\in \\{0, 1\\}\\\\\n",
       " & Bruce\\_{Steve}\\_on\\_Thu 03/03 \\in \\{0, 1\\}\\\\\n",
       " & Bruce\\_{Steve}\\_on\\_Fri 04/03 \\in \\{0, 1\\}\\\\\n",
       "\\end{aligned} $$"
      ],
      "text/plain": [
       "$$ \\begin{aligned}\n",
       "\\max\\quad & 5 {Tony}\\_on\\_{Mon 28/02} + {Tony}\\_on\\_{Tue 01/03} + 5 {Tony}\\_on\\_{Wed 02/03} + 5 {Tony}\\_on\\_{Thu 03/03} + 5 {Tony}\\_on\\_{Fri 04/03} + {Bruce}\\_on\\_{Mon 28/02} + 5 {Bruce}\\_on\\_{Tue 01/03} + {Bruce}\\_on\\_{Wed 02/03} + {Bruce}\\_on\\_{Thu 03/03} - 99 {Bruce}\\_on\\_{Fri 04/03} + {Steve}\\_on\\_{Mon 28/02} + 5 {Steve}\\_on\\_{Tue 01/03} + {Steve}\\_on\\_{Wed 02/03} + 5 {Steve}\\_on\\_{Thu 03/03} + {Steve}\\_on\\_{Fri 04/03} + 10 Tony\\_{Bruce}\\_on\\_Mon 28/02 + 10 Tony\\_{Bruce}\\_on\\_Tue 01/03 + 10 Tony\\_{Bruce}\\_on\\_Wed 02/03 + 10 Tony\\_{Bruce}\\_on\\_Thu 03/03 + 10 Tony\\_{Bruce}\\_on\\_Fri 04/03 - 10 Tony\\_{Steve}\\_on\\_Mon 28/02 - 10 Tony\\_{Steve}\\_on\\_Tue 01/03 - 10 Tony\\_{Steve}\\_on\\_Wed 02/03 - 10 Tony\\_{Steve}\\_on\\_Thu 03/03 - 10 Tony\\_{Steve}\\_on\\_Fri 04/03 + Bruce\\_{Steve}\\_on\\_Mon 28/02 + Bruce\\_{Steve}\\_on\\_Tue 01/03 + Bruce\\_{Steve}\\_on\\_Wed 02/03 + Bruce\\_{Steve}\\_on\\_Thu 03/03 + Bruce\\_{Steve}\\_on\\_Fri 04/03\\\\\n",
       "\\text{Subject to} \\quad & {Tony}\\_on\\_{Mon 28/02} + {Tony}\\_on\\_{Tue 01/03} + {Tony}\\_on\\_{Wed 02/03} + {Tony}\\_on\\_{Thu 03/03} + {Tony}\\_on\\_{Fri 04/03} \\geq 1.0\\\\\n",
       " & {Bruce}\\_on\\_{Mon 28/02} + {Bruce}\\_on\\_{Tue 01/03} + {Bruce}\\_on\\_{Wed 02/03} + {Bruce}\\_on\\_{Thu 03/03} + {Bruce}\\_on\\_{Fri 04/03} \\geq 1.0\\\\\n",
       " & {Steve}\\_on\\_{Mon 28/02} + {Steve}\\_on\\_{Tue 01/03} + {Steve}\\_on\\_{Wed 02/03} + {Steve}\\_on\\_{Thu 03/03} + {Steve}\\_on\\_{Fri 04/03} \\geq 1.0\\\\\n",
       " & -{Tony}\\_on\\_{Mon 28/02} - {Bruce}\\_on\\_{Mon 28/02} + Tony\\_{Bruce}\\_on\\_Mon 28/02 \\geq -1.0\\\\\n",
       " & -{Tony}\\_on\\_{Mon 28/02} - {Steve}\\_on\\_{Mon 28/02} + Tony\\_{Steve}\\_on\\_Mon 28/02 \\geq -1.0\\\\\n",
       " & -{Bruce}\\_on\\_{Mon 28/02} - {Steve}\\_on\\_{Mon 28/02} + Bruce\\_{Steve}\\_on\\_Mon 28/02 \\geq -1.0\\\\\n",
       " & -{Tony}\\_on\\_{Tue 01/03} - {Bruce}\\_on\\_{Tue 01/03} + Tony\\_{Bruce}\\_on\\_Tue 01/03 \\geq -1.0\\\\\n",
       " & -{Tony}\\_on\\_{Tue 01/03} - {Steve}\\_on\\_{Tue 01/03} + Tony\\_{Steve}\\_on\\_Tue 01/03 \\geq -1.0\\\\\n",
       " & -{Bruce}\\_on\\_{Tue 01/03} - {Steve}\\_on\\_{Tue 01/03} + Bruce\\_{Steve}\\_on\\_Tue 01/03 \\geq -1.0\\\\\n",
       " & -{Tony}\\_on\\_{Wed 02/03} - {Bruce}\\_on\\_{Wed 02/03} + Tony\\_{Bruce}\\_on\\_Wed 02/03 \\geq -1.0\\\\\n",
       " & -{Tony}\\_on\\_{Wed 02/03} - {Steve}\\_on\\_{Wed 02/03} + Tony\\_{Steve}\\_on\\_Wed 02/03 \\geq -1.0\\\\\n",
       " & -{Bruce}\\_on\\_{Wed 02/03} - {Steve}\\_on\\_{Wed 02/03} + Bruce\\_{Steve}\\_on\\_Wed 02/03 \\geq -1.0\\\\\n",
       " & -{Tony}\\_on\\_{Thu 03/03} - {Bruce}\\_on\\_{Thu 03/03} + Tony\\_{Bruce}\\_on\\_Thu 03/03 \\geq -1.0\\\\\n",
       " & -{Tony}\\_on\\_{Thu 03/03} - {Steve}\\_on\\_{Thu 03/03} + Tony\\_{Steve}\\_on\\_Thu 03/03 \\geq -1.0\\\\\n",
       " & -{Bruce}\\_on\\_{Thu 03/03} - {Steve}\\_on\\_{Thu 03/03} + Bruce\\_{Steve}\\_on\\_Thu 03/03 \\geq -1.0\\\\\n",
       " & -{Tony}\\_on\\_{Fri 04/03} - {Bruce}\\_on\\_{Fri 04/03} + Tony\\_{Bruce}\\_on\\_Fri 04/03 \\geq -1.0\\\\\n",
       " & -{Tony}\\_on\\_{Fri 04/03} - {Steve}\\_on\\_{Fri 04/03} + Tony\\_{Steve}\\_on\\_Fri 04/03 \\geq -1.0\\\\\n",
       " & -{Bruce}\\_on\\_{Fri 04/03} - {Steve}\\_on\\_{Fri 04/03} + Bruce\\_{Steve}\\_on\\_Fri 04/03 \\geq -1.0\\\\\n",
       " & {Tony}\\_on\\_{Mon 28/02} + {Bruce}\\_on\\_{Mon 28/02} + {Steve}\\_on\\_{Mon 28/02} \\leq 2.0\\\\\n",
       " & {Tony}\\_on\\_{Tue 01/03} + {Bruce}\\_on\\_{Tue 01/03} + {Steve}\\_on\\_{Tue 01/03} \\leq 2.0\\\\\n",
       " & {Tony}\\_on\\_{Wed 02/03} + {Bruce}\\_on\\_{Wed 02/03} + {Steve}\\_on\\_{Wed 02/03} \\leq 2.0\\\\\n",
       " & {Tony}\\_on\\_{Thu 03/03} + {Bruce}\\_on\\_{Thu 03/03} + {Steve}\\_on\\_{Thu 03/03} \\leq 2.0\\\\\n",
       " & {Tony}\\_on\\_{Fri 04/03} + {Bruce}\\_on\\_{Fri 04/03} + {Steve}\\_on\\_{Fri 04/03} \\leq 2.0\\\\\n",
       " & {Tony}\\_on\\_{Mon 28/02} + {Tony}\\_on\\_{Tue 01/03} + {Tony}\\_on\\_{Wed 02/03} + {Tony}\\_on\\_{Thu 03/03} + {Tony}\\_on\\_{Fri 04/03} \\leq 2.0\\\\\n",
       " & {Bruce}\\_on\\_{Mon 28/02} + {Bruce}\\_on\\_{Tue 01/03} + {Bruce}\\_on\\_{Wed 02/03} + {Bruce}\\_on\\_{Thu 03/03} + {Bruce}\\_on\\_{Fri 04/03} \\leq 2.0\\\\\n",
       " & {Steve}\\_on\\_{Mon 28/02} + {Steve}\\_on\\_{Tue 01/03} + {Steve}\\_on\\_{Wed 02/03} + {Steve}\\_on\\_{Thu 03/03} + {Steve}\\_on\\_{Fri 04/03} \\leq 2.0\\\\\n",
       " & -{Tony}\\_on\\_{Mon 28/02} + Tony\\_{Bruce}\\_on\\_Mon 28/02 \\leq 0.0\\\\\n",
       " & -{Bruce}\\_on\\_{Mon 28/02} + Tony\\_{Bruce}\\_on\\_Mon 28/02 \\leq 0.0\\\\\n",
       " & -{Tony}\\_on\\_{Mon 28/02} + Tony\\_{Steve}\\_on\\_Mon 28/02 \\leq 0.0\\\\\n",
       " & -{Steve}\\_on\\_{Mon 28/02} + Tony\\_{Steve}\\_on\\_Mon 28/02 \\leq 0.0\\\\\n",
       " & -{Bruce}\\_on\\_{Mon 28/02} + Bruce\\_{Steve}\\_on\\_Mon 28/02 \\leq 0.0\\\\\n",
       " & -{Steve}\\_on\\_{Mon 28/02} + Bruce\\_{Steve}\\_on\\_Mon 28/02 \\leq 0.0\\\\\n",
       " & -{Tony}\\_on\\_{Tue 01/03} + Tony\\_{Bruce}\\_on\\_Tue 01/03 \\leq 0.0\\\\\n",
       " & -{Bruce}\\_on\\_{Tue 01/03} + Tony\\_{Bruce}\\_on\\_Tue 01/03 \\leq 0.0\\\\\n",
       " & -{Tony}\\_on\\_{Tue 01/03} + Tony\\_{Steve}\\_on\\_Tue 01/03 \\leq 0.0\\\\\n",
       " & -{Steve}\\_on\\_{Tue 01/03} + Tony\\_{Steve}\\_on\\_Tue 01/03 \\leq 0.0\\\\\n",
       " & -{Bruce}\\_on\\_{Tue 01/03} + Bruce\\_{Steve}\\_on\\_Tue 01/03 \\leq 0.0\\\\\n",
       " & -{Steve}\\_on\\_{Tue 01/03} + Bruce\\_{Steve}\\_on\\_Tue 01/03 \\leq 0.0\\\\\n",
       " & -{Tony}\\_on\\_{Wed 02/03} + Tony\\_{Bruce}\\_on\\_Wed 02/03 \\leq 0.0\\\\\n",
       " & -{Bruce}\\_on\\_{Wed 02/03} + Tony\\_{Bruce}\\_on\\_Wed 02/03 \\leq 0.0\\\\\n",
       " & -{Tony}\\_on\\_{Wed 02/03} + Tony\\_{Steve}\\_on\\_Wed 02/03 \\leq 0.0\\\\\n",
       " & -{Steve}\\_on\\_{Wed 02/03} + Tony\\_{Steve}\\_on\\_Wed 02/03 \\leq 0.0\\\\\n",
       " & -{Bruce}\\_on\\_{Wed 02/03} + Bruce\\_{Steve}\\_on\\_Wed 02/03 \\leq 0.0\\\\\n",
       " & -{Steve}\\_on\\_{Wed 02/03} + Bruce\\_{Steve}\\_on\\_Wed 02/03 \\leq 0.0\\\\\n",
       " & -{Tony}\\_on\\_{Thu 03/03} + Tony\\_{Bruce}\\_on\\_Thu 03/03 \\leq 0.0\\\\\n",
       " & -{Bruce}\\_on\\_{Thu 03/03} + Tony\\_{Bruce}\\_on\\_Thu 03/03 \\leq 0.0\\\\\n",
       " & -{Tony}\\_on\\_{Thu 03/03} + Tony\\_{Steve}\\_on\\_Thu 03/03 \\leq 0.0\\\\\n",
       " & -{Steve}\\_on\\_{Thu 03/03} + Tony\\_{Steve}\\_on\\_Thu 03/03 \\leq 0.0\\\\\n",
       " & -{Bruce}\\_on\\_{Thu 03/03} + Bruce\\_{Steve}\\_on\\_Thu 03/03 \\leq 0.0\\\\\n",
       " & -{Steve}\\_on\\_{Thu 03/03} + Bruce\\_{Steve}\\_on\\_Thu 03/03 \\leq 0.0\\\\\n",
       " & -{Tony}\\_on\\_{Fri 04/03} + Tony\\_{Bruce}\\_on\\_Fri 04/03 \\leq 0.0\\\\\n",
       " & -{Bruce}\\_on\\_{Fri 04/03} + Tony\\_{Bruce}\\_on\\_Fri 04/03 \\leq 0.0\\\\\n",
       " & -{Tony}\\_on\\_{Fri 04/03} + Tony\\_{Steve}\\_on\\_Fri 04/03 \\leq 0.0\\\\\n",
       " & -{Steve}\\_on\\_{Fri 04/03} + Tony\\_{Steve}\\_on\\_Fri 04/03 \\leq 0.0\\\\\n",
       " & -{Bruce}\\_on\\_{Fri 04/03} + Bruce\\_{Steve}\\_on\\_Fri 04/03 \\leq 0.0\\\\\n",
       " & -{Steve}\\_on\\_{Fri 04/03} + Bruce\\_{Steve}\\_on\\_Fri 04/03 \\leq 0.0\\\\\n",
       " & {Tony}\\_on\\_{Mon 28/02} \\in \\{0, 1\\}\\\\\n",
       " & {Tony}\\_on\\_{Tue 01/03} \\in \\{0, 1\\}\\\\\n",
       " & {Tony}\\_on\\_{Wed 02/03} \\in \\{0, 1\\}\\\\\n",
       " & {Tony}\\_on\\_{Thu 03/03} \\in \\{0, 1\\}\\\\\n",
       " & {Tony}\\_on\\_{Fri 04/03} \\in \\{0, 1\\}\\\\\n",
       " & {Bruce}\\_on\\_{Mon 28/02} \\in \\{0, 1\\}\\\\\n",
       " & {Bruce}\\_on\\_{Tue 01/03} \\in \\{0, 1\\}\\\\\n",
       " & {Bruce}\\_on\\_{Wed 02/03} \\in \\{0, 1\\}\\\\\n",
       " & {Bruce}\\_on\\_{Thu 03/03} \\in \\{0, 1\\}\\\\\n",
       " & {Bruce}\\_on\\_{Fri 04/03} \\in \\{0, 1\\}\\\\\n",
       " & {Steve}\\_on\\_{Mon 28/02} \\in \\{0, 1\\}\\\\\n",
       " & {Steve}\\_on\\_{Tue 01/03} \\in \\{0, 1\\}\\\\\n",
       " & {Steve}\\_on\\_{Wed 02/03} \\in \\{0, 1\\}\\\\\n",
       " & {Steve}\\_on\\_{Thu 03/03} \\in \\{0, 1\\}\\\\\n",
       " & {Steve}\\_on\\_{Fri 04/03} \\in \\{0, 1\\}\\\\\n",
       " & Tony\\_{Bruce}\\_on\\_Mon 28/02 \\in \\{0, 1\\}\\\\\n",
       " & Tony\\_{Bruce}\\_on\\_Tue 01/03 \\in \\{0, 1\\}\\\\\n",
       " & Tony\\_{Bruce}\\_on\\_Wed 02/03 \\in \\{0, 1\\}\\\\\n",
       " & Tony\\_{Bruce}\\_on\\_Thu 03/03 \\in \\{0, 1\\}\\\\\n",
       " & Tony\\_{Bruce}\\_on\\_Fri 04/03 \\in \\{0, 1\\}\\\\\n",
       " & Tony\\_{Steve}\\_on\\_Mon 28/02 \\in \\{0, 1\\}\\\\\n",
       " & Tony\\_{Steve}\\_on\\_Tue 01/03 \\in \\{0, 1\\}\\\\\n",
       " & Tony\\_{Steve}\\_on\\_Wed 02/03 \\in \\{0, 1\\}\\\\\n",
       " & Tony\\_{Steve}\\_on\\_Thu 03/03 \\in \\{0, 1\\}\\\\\n",
       " & Tony\\_{Steve}\\_on\\_Fri 04/03 \\in \\{0, 1\\}\\\\\n",
       " & Bruce\\_{Steve}\\_on\\_Mon 28/02 \\in \\{0, 1\\}\\\\\n",
       " & Bruce\\_{Steve}\\_on\\_Tue 01/03 \\in \\{0, 1\\}\\\\\n",
       " & Bruce\\_{Steve}\\_on\\_Wed 02/03 \\in \\{0, 1\\}\\\\\n",
       " & Bruce\\_{Steve}\\_on\\_Thu 03/03 \\in \\{0, 1\\}\\\\\n",
       " & Bruce\\_{Steve}\\_on\\_Fri 04/03 \\in \\{0, 1\\}\\\\\n",
       "\\end{aligned} $$"
      ]
     },
     "execution_count": 29,
     "metadata": {},
     "output_type": "execute_result"
    }
   ],
   "source": [
    "JuMP.latex_formulation(model)"
   ]
  },
  {
   "cell_type": "markdown",
   "metadata": {
    "slideshow": {
     "slide_type": "subslide"
    }
   },
   "source": [
    "### Run optimization"
   ]
  },
  {
   "cell_type": "code",
   "execution_count": 30,
   "metadata": {
    "slideshow": {
     "slide_type": "subslide"
    }
   },
   "outputs": [
    {
     "name": "stdout",
     "output_type": "stream",
     "text": [
      "Welcome to the CBC MILP Solver \n",
      "Version: 2.10.5 \n",
      "Build Date: Jan  1 1970 \n",
      "\n",
      "command line - Cbc_C_Interface -solve -quit (default strategy 1)\n",
      "Continuous objective value is 42 - 0.00 seconds\n",
      "Cgl0003I 0 fixed, 0 tightened bounds, 15 strengthened rows, 0 substitutions\n",
      "Cgl0003I 0 fixed, 0 tightened bounds, 15 strengthened rows, 0 substitutions\n",
      "Cgl0004I processed model has 38 rows, 30 columns (30 integer (30 of which binary)) and 120 elements\n",
      "Cutoff increment increased from 1e-05 to 0.9999\n",
      "Cbc0038I Initial state - 0 integers unsatisfied sum - 0\n",
      "Cbc0038I Solution found of -42\n",
      "Cbc0038I Before mini branch and bound, 30 integers at bound fixed and 0 continuous\n",
      "Cbc0038I Mini branch and bound did not improve solution (0.00 seconds)\n",
      "Cbc0038I After 0.00 seconds - Feasibility pump exiting with objective of -42 - took 0.00 seconds\n",
      "Cbc0012I Integer solution of -42 found by feasibility pump after 0 iterations and 0 nodes (0.00 seconds)\n",
      "Cbc0001I Search completed - best objective -42, took 0 iterations and 0 nodes (0.00 seconds)\n",
      "Cbc0035I Maximum depth 0, 0 variables fixed on reduced cost\n",
      "Cuts at root node changed objective from -42 to -42\n",
      "Probing was tried 0 times and created 0 cuts of which 0 were active after adding rounds of cuts (0.000 seconds)\n",
      "Gomory was tried 0 times and created 0 cuts of which 0 were active after adding rounds of cuts (0.000 seconds)\n",
      "Knapsack was tried 0 times and created 0 cuts of which 0 were active after adding rounds of cuts (0.000 seconds)\n",
      "Clique was tried 0 times and created 0 cuts of which 0 were active after adding rounds of cuts (0.000 seconds)\n",
      "MixedIntegerRounding2 was tried 0 times and created 0 cuts of which 0 were active after adding rounds of cuts (0.000 seconds)\n",
      "FlowCover was tried 0 times and created 0 cuts of which 0 were active after adding rounds of cuts (0.000 seconds)\n",
      "TwoMirCuts was tried 0 times and created 0 cuts of which 0 were active after adding rounds of cuts (0.000 seconds)\n",
      "ZeroHalf was tried 0 times and created 0 cuts of which 0 were active after adding rounds of cuts (0.000 seconds)\n",
      "\n",
      "Result - Optimal solution found\n",
      "\n",
      "Objective value:                42.00000000\n",
      "Enumerated nodes:               0\n",
      "Total iterations:               0\n",
      "Time (CPU seconds):             0.00\n",
      "Time (Wallclock seconds):       0.00\n",
      "\n",
      "Total time (CPU seconds):       0.00   (Wallclock seconds):       0.00\n",
      "\n"
     ]
    }
   ],
   "source": [
    "optimize!(model)"
   ]
  },
  {
   "cell_type": "markdown",
   "metadata": {
    "slideshow": {
     "slide_type": "skip"
    }
   },
   "source": [
    "#### Print results - watch out, can be large, depending on the size of your problem."
   ]
  },
  {
   "cell_type": "code",
   "execution_count": 31,
   "metadata": {
    "slideshow": {
     "slide_type": "subslide"
    }
   },
   "outputs": [
    {
     "name": "stdout",
     "output_type": "stream",
     "text": [
      "Status = OPTIMAL\n",
      "Solution = 42.0\n",
      "\n",
      "    Tony: 1, 0, 1, 0, 0, \n",
      "   Bruce: 1, 0, 1, 0, 0, \n",
      "   Steve: 0, 1, 0, 1, 0, \n"
     ]
    }
   ],
   "source": [
    "println(\"Status = \", termination_status(model))\n",
    "println(\"Solution = \", objective_value(model))\n",
    "println()\n",
    "\n",
    "for e in employees\n",
    "    n = lpad(employee_names[e], 8)\n",
    "    print(\"$(n): \")\n",
    "    for d in days\n",
    "        print(convert(Int8, value(attendance_vars[(e, d)])), \", \")\n",
    "    end\n",
    "    println()\n",
    "end"
   ]
  },
  {
   "cell_type": "markdown",
   "metadata": {
    "slideshow": {
     "slide_type": "skip"
    }
   },
   "source": [
    "### Utility function - save solution to an Excel file"
   ]
  },
  {
   "cell_type": "code",
   "execution_count": 32,
   "metadata": {
    "slideshow": {
     "slide_type": "skip"
    }
   },
   "outputs": [
    {
     "data": {
      "text/plain": [
       "save_solution (generic function with 1 method)"
      ]
     },
     "execution_count": 32,
     "metadata": {},
     "output_type": "execute_result"
    }
   ],
   "source": [
    "function save_solution(output_file_name::String, \n",
    "        employee_names::Array{String,1}, \n",
    "        day_names::Array{String,1}, attendance_vars)\n",
    "\n",
    "    employees, days = get_optimization_ranges(employee_names, day_names)\n",
    "    allocations = [[convert(Int64, value(attendance_vars[(e, d)])) for d in days] for e in employees]\n",
    "\n",
    "    XLSX.openxlsx(output_file_name, mode=\"w\") do xf\n",
    "        sheet = xf[1]\n",
    "        XLSX.rename!(sheet, \"schedule\")\n",
    "        sheet[2, 1, dim=1] = employee_names # dim=1 means column\n",
    "        sheet[1, 2, dim=2] = day_names # dim=2 means row\n",
    "        for e in employees\n",
    "            for d in days\n",
    "                sheet[1 + e, 1 + d] = allocations[e][d]\n",
    "            end\n",
    "        end\n",
    "    end\n",
    "end"
   ]
  },
  {
   "cell_type": "code",
   "execution_count": 33,
   "metadata": {
    "slideshow": {
     "slide_type": "fragment"
    }
   },
   "outputs": [],
   "source": [
    "output_file_name = \"schedule.xlsx\"\n",
    "save_solution(output_file_name, employee_names, day_names, attendance_vars)"
   ]
  },
  {
   "cell_type": "markdown",
   "metadata": {
    "slideshow": {
     "slide_type": "fragment"
    }
   },
   "source": [
    "[Schedule](schedule.xlsx)"
   ]
  },
  {
   "cell_type": "markdown",
   "metadata": {
    "slideshow": {
     "slide_type": "subslide"
    }
   },
   "source": [
    "## A more elaborate example\n",
    "![Larger preferences](preferences-large.png)\n",
    "![Larger connections](connections-large.png)\n",
    "![Larger schedule](schedule-large.png)"
   ]
  },
  {
   "cell_type": "markdown",
   "metadata": {
    "slideshow": {
     "slide_type": "subslide"
    }
   },
   "source": [
    "![Optimizer output](optimizer-output.png)"
   ]
  },
  {
   "cell_type": "markdown",
   "metadata": {
    "slideshow": {
     "slide_type": "fragment"
    }
   },
   "source": [
    "I used this method to compute weekly schedules for around 110 people, 70 workspots. The computation time was a little over 1 minute on my laptop."
   ]
  },
  {
   "cell_type": "markdown",
   "metadata": {
    "slideshow": {
     "slide_type": "slide"
    }
   },
   "source": [
    "# Thank you!\n",
    "\n",
    "<img src=\"qr.png\" alt=\"link to repository\" width=\"400\"/>\n",
    "\n",
    "## Questions?"
   ]
  },
  {
   "cell_type": "code",
   "execution_count": null,
   "metadata": {},
   "outputs": [],
   "source": []
  }
 ],
 "metadata": {
  "celltoolbar": "Slideshow",
  "kernelspec": {
   "display_name": "Julia 1.7.2",
   "language": "julia",
   "name": "julia-1.7"
  },
  "language_info": {
   "file_extension": ".jl",
   "mimetype": "application/julia",
   "name": "julia",
   "version": "1.7.2"
  }
 },
 "nbformat": 4,
 "nbformat_minor": 4
}
